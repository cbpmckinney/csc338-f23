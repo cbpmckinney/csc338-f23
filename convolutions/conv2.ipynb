{
 "cells": [
  {
   "cell_type": "code",
   "execution_count": 85,
   "metadata": {},
   "outputs": [],
   "source": [
    "import numpy as np\n",
    "import tensorflow as tf\n",
    "from matplotlib import pyplot as plt\n",
    "import math\n",
    "\n",
    "(train_images, train_labels), (test_images, test_labels) = tf.keras.datasets.mnist.load_data()\n",
    "\n",
    "\n",
    "train_images = tf.convert_to_tensor(train_images /255 , dtype=tf.float32)\n",
    "train_labels = tf.convert_to_tensor(train_labels /255 , dtype=tf.float32)\n",
    "test_images = tf.convert_to_tensor(test_images /255 , dtype=tf.float32) \n",
    "test_labels = tf.convert_to_tensor(test_labels /255 , dtype=tf.float32) \n",
    "\n",
    "#train_dataset = tf.data.Dataset.from_tensor_slices((train_images, train_labels))\n",
    "#test_dataset = tf.data.Dataset.from_tensor_slices((test_images, test_labels))\n",
    "\n",
    "#batch_size = 64\n",
    "\n",
    "#train_dataset = train_dataset.shuffle(buffer_size=len(train_images)).batch(batch_size)\n",
    "\n"
   ]
  },
  {
   "cell_type": "code",
   "execution_count": 86,
   "metadata": {},
   "outputs": [
    {
     "name": "stdout",
     "output_type": "stream",
     "text": [
      "Model: \"sequential_43\"\n",
      "_________________________________________________________________\n",
      " Layer (type)                Output Shape              Param #   \n",
      "=================================================================\n",
      " conv2d_49 (Conv2D)          (None, 28, 28, 16)        160       \n",
      "                                                                 \n",
      " flatten_12 (Flatten)        (None, 12544)             0         \n",
      "                                                                 \n",
      " dense_14 (Dense)            (None, 64)                802880    \n",
      "                                                                 \n",
      " dense_15 (Dense)            (None, 10)                650       \n",
      "                                                                 \n",
      "=================================================================\n",
      "Total params: 803690 (3.07 MB)\n",
      "Trainable params: 803690 (3.07 MB)\n",
      "Non-trainable params: 0 (0.00 Byte)\n",
      "_________________________________________________________________\n"
     ]
    }
   ],
   "source": [
    "model = tf.keras.models.Sequential()\n",
    "\n",
    "\n",
    "model.add(tf.keras.layers.Conv2D(filters=16,kernel_size=(3,3),strides=1,padding=\"same\",activation=\"relu\", input_shape=(28,28,1)))\n",
    "\n",
    "model.add(tf.keras.layers.Flatten())\n",
    "model.add(tf.keras.layers.Dense(64,activation=\"relu\"))\n",
    "model.add(tf.keras.layers.Dense(10))\n",
    "\n",
    "\n",
    "\n",
    "model.compile(\n",
    "    optimizer=tf.keras.optimizers.Adam(0.001),\n",
    "    loss=tf.keras.losses.SparseCategoricalCrossentropy(from_logits=True),\n",
    "    metrics=['accuracy'],\n",
    ")\n",
    "\n",
    "model.summary()"
   ]
  },
  {
   "cell_type": "code",
   "execution_count": 87,
   "metadata": {},
   "outputs": [
    {
     "name": "stdout",
     "output_type": "stream",
     "text": [
      "Epoch 1/10\n",
      "1875/1875 [==============================] - 5s 2ms/step - loss: 0.0019 - accuracy: 0.0987 - val_loss: 0.0039 - val_accuracy: 0.0980\n",
      "Epoch 2/10\n",
      "1875/1875 [==============================] - 4s 2ms/step - loss: 7.7724e-09 - accuracy: 0.0987 - val_loss: 0.0035 - val_accuracy: 0.0980\n",
      "Epoch 3/10\n",
      "1875/1875 [==============================] - 5s 3ms/step - loss: 5.9624e-09 - accuracy: 0.0987 - val_loss: 0.0028 - val_accuracy: 0.0980\n",
      "Epoch 4/10\n",
      "1875/1875 [==============================] - 5s 3ms/step - loss: 3.7134e-09 - accuracy: 0.0987 - val_loss: 0.0021 - val_accuracy: 0.0980\n",
      "Epoch 5/10\n",
      "1875/1875 [==============================] - 5s 3ms/step - loss: 1.8895e-09 - accuracy: 0.0987 - val_loss: 0.0014 - val_accuracy: 0.0980\n",
      "Epoch 6/10\n",
      "1875/1875 [==============================] - 4s 2ms/step - loss: 9.1195e-10 - accuracy: 0.0987 - val_loss: 8.8452e-04 - val_accuracy: 0.0980\n",
      "Epoch 7/10\n",
      "1875/1875 [==============================] - 4s 2ms/step - loss: 3.8544e-10 - accuracy: 0.0987 - val_loss: 5.3739e-04 - val_accuracy: 0.0980\n",
      "Epoch 8/10\n",
      "1875/1875 [==============================] - 4s 2ms/step - loss: 1.3908e-10 - accuracy: 0.0987 - val_loss: 3.2380e-04 - val_accuracy: 0.0980\n",
      "Epoch 9/10\n",
      "1875/1875 [==============================] - 5s 2ms/step - loss: 4.5697e-11 - accuracy: 0.0987 - val_loss: 2.0673e-04 - val_accuracy: 0.0980\n",
      "Epoch 10/10\n",
      "1875/1875 [==============================] - 4s 2ms/step - loss: 1.1921e-11 - accuracy: 0.0987 - val_loss: 1.3274e-04 - val_accuracy: 0.0980\n"
     ]
    }
   ],
   "source": [
    "history = model.fit(train_images, train_labels, epochs=10, \n",
    "                    validation_data=(test_images, test_labels))"
   ]
  },
  {
   "cell_type": "code",
   "execution_count": null,
   "metadata": {},
   "outputs": [],
   "source": []
  }
 ],
 "metadata": {
  "kernelspec": {
   "display_name": "Python 3",
   "language": "python",
   "name": "python3"
  },
  "language_info": {
   "codemirror_mode": {
    "name": "ipython",
    "version": 3
   },
   "file_extension": ".py",
   "mimetype": "text/x-python",
   "name": "python",
   "nbconvert_exporter": "python",
   "pygments_lexer": "ipython3",
   "version": "3.10.12"
  }
 },
 "nbformat": 4,
 "nbformat_minor": 2
}
