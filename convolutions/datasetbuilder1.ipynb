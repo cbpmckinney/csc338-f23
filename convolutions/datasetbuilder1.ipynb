{
 "cells": [
  {
   "cell_type": "code",
   "execution_count": null,
   "metadata": {},
   "outputs": [
    {
     "ename": "",
     "evalue": "",
     "output_type": "error",
     "traceback": [
      "\u001b[1;31mThe Kernel crashed while executing code in the the current cell or a previous cell. Please review the code in the cell(s) to identify a possible cause of the failure. Click <a href='https://aka.ms/vscodeJupyterKernelCrash'>here</a> for more info. View Jupyter <a href='command:jupyter.viewOutput'>log</a> for further details."
     ]
    }
   ],
   "source": [
    "import numpy as np\n",
    "import tensorflow as tf\n",
    "from matplotlib import pyplot as plt\n",
    "import math\n",
    "import random\n",
    "\n",
    "(train_images, train_labels), (test_images, test_labels) = tf.keras.datasets.mnist.load_data()\n",
    "\n",
    "train_images = train_images / 255\n",
    "test_images = test_images / 255\n",
    "\n",
    "\n",
    "\n",
    "new_train_images = np.zeros((50000,280,280))\n",
    "new_train_labels = np.zeros((50000,14))\n",
    "\n",
    "for i in range(len(new_train_images)):\n",
    "\n",
    "    randx = random.randrange(0,280-28,1)\n",
    "    randy = random.randrange(0,280-28,1)\n",
    "\n",
    "    new_train_images[i,randx:randx+28,randy:randy+28] = train_images[i]\n",
    "    new_train_labels[i,0] = randx\n",
    "    new_train_labels[i,1] = randy \n",
    "    new_train_labels[i,2] = randx + 28\n",
    "    new_train_labels[i,3] = randy + 28\n",
    "    new_train_labels[i,4+train_labels[i]] = 1 \n",
    "\n",
    "\n",
    "\n",
    "trainimagestensor = tf.convert_to_tensor(new_train_images, dtype=tf.float16)\n",
    "trainlabelstensor = tf.convert_to_tensor(new_train_labels, dtype=tf.float16)\n",
    "\n",
    "\n"
   ]
  },
  {
   "cell_type": "code",
   "execution_count": 4,
   "metadata": {},
   "outputs": [
    {
     "name": "stdout",
     "output_type": "stream",
     "text": [
      "Model: \"sequential\"\n",
      "_________________________________________________________________\n",
      " Layer (type)                Output Shape              Param #   \n",
      "=================================================================\n",
      " conv2d (Conv2D)             (None, 280, 280, 2)       20        \n",
      "                                                                 \n",
      " flatten (Flatten)           (None, 156800)            0         \n",
      "                                                                 \n",
      " dense (Dense)               (None, 64)                10035264  \n",
      "                                                                 \n",
      " dense_1 (Dense)             (None, 14)                910       \n",
      "                                                                 \n",
      "=================================================================\n",
      "Total params: 10036194 (38.29 MB)\n",
      "Trainable params: 10036194 (38.29 MB)\n",
      "Non-trainable params: 0 (0.00 Byte)\n",
      "_________________________________________________________________\n"
     ]
    }
   ],
   "source": [
    "class CustomLoss(tf.keras.losses.Loss):\n",
    "    def __init__(self):\n",
    "        super().__init__()\n",
    "\n",
    "    def call(self, y_true, y_pred):        \n",
    "        \n",
    "        truebox = y_true[0:4]\n",
    "        truelabel = y_true[4:]\n",
    "\n",
    "        predbox = y_pred[0:4]\n",
    "        predlabel = y_pred[4:]\n",
    "        \n",
    "        log_y_pred = tf.math.log(predlabel)\n",
    "        elements = -tf.math.multiply_no_nan(x=log_y_pred, y=truelabel)\n",
    "        ce = tf.reduce_mean(tf.reduce_sum(elements,axis=1))\n",
    "        bbe = (truebox[0]-predbox[0])**2 + (truebox[1]-predbox[1])**2 + (truebox[2]-predbox[2])**2 + (truebox[3]-predbox[3])**2\n",
    "\n",
    "        return ce + bbe\n",
    "\n",
    "\n",
    "model = tf.keras.models.Sequential()\n",
    "\n",
    "\n",
    "model.add(tf.keras.layers.Conv2D(filters=2,kernel_size=(3,3),strides=1,padding=\"same\",activation=\"relu\", input_shape=(280,280,1)))\n",
    "model.add(tf.keras.layers.Flatten())\n",
    "model.add(tf.keras.layers.Dense(64,activation=\"relu\"))\n",
    "model.add(tf.keras.layers.Dense(14))\n",
    "model.summary()\n",
    "\n",
    "\n",
    "model.compile(\n",
    "  optimizer=tf.keras.optimizers.Adam(0.001),\n",
    "  loss=CustomLoss(),\n",
    "  metrics=['accuracy'])\n"
   ]
  },
  {
   "cell_type": "code",
   "execution_count": 5,
   "metadata": {},
   "outputs": [
    {
     "name": "stderr",
     "output_type": "stream",
     "text": [
      "2023-11-06 15:57:12.975899: I tensorflow/compiler/xla/stream_executor/cuda/cuda_dnn.cc:432] Loaded cuDNN version 8902\n",
      "2023-11-06 15:57:13.325093: I tensorflow/compiler/xla/stream_executor/cuda/cuda_blas.cc:606] TensorFloat-32 will be used for the matrix multiplication. This will only be logged once.\n",
      "2023-11-06 15:57:13.389038: I tensorflow/compiler/xla/service/service.cc:168] XLA service 0x55cd3f0b5ff0 initialized for platform CUDA (this does not guarantee that XLA will be used). Devices:\n",
      "2023-11-06 15:57:13.389092: I tensorflow/compiler/xla/service/service.cc:176]   StreamExecutor device (0): NVIDIA GeForce RTX 4070 Laptop GPU, Compute Capability 8.9\n",
      "2023-11-06 15:57:13.405724: I tensorflow/compiler/mlir/tensorflow/utils/dump_mlir_util.cc:255] disabling MLIR crash reproducer, set env var `MLIR_CRASH_REPRODUCER_DIRECTORY` to enable.\n",
      "2023-11-06 15:57:13.557031: I ./tensorflow/compiler/jit/device_compiler.h:186] Compiled cluster using XLA!  This line is logged at most once for the lifetime of the process.\n"
     ]
    },
    {
     "name": "stdout",
     "output_type": "stream",
     "text": [
      "313/313 [==============================] - 4s 9ms/step - loss: nan - accuracy: 0.4733\n"
     ]
    },
    {
     "data": {
      "text/plain": [
       "<keras.callbacks.History at 0x7f4b5a042cb0>"
      ]
     },
     "execution_count": 5,
     "metadata": {},
     "output_type": "execute_result"
    }
   ],
   "source": [
    "model.fit(trainimagestensor, trainlabelstensor)"
   ]
  },
  {
   "cell_type": "code",
   "execution_count": null,
   "metadata": {},
   "outputs": [],
   "source": []
  }
 ],
 "metadata": {
  "kernelspec": {
   "display_name": "Python 3",
   "language": "python",
   "name": "python3"
  },
  "language_info": {
   "codemirror_mode": {
    "name": "ipython",
    "version": 3
   },
   "file_extension": ".py",
   "mimetype": "text/x-python",
   "name": "python",
   "nbconvert_exporter": "python",
   "pygments_lexer": "ipython3",
   "version": "3.10.12"
  }
 },
 "nbformat": 4,
 "nbformat_minor": 2
}
