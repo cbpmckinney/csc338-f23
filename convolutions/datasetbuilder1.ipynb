{
 "cells": [
  {
   "cell_type": "code",
   "execution_count": 2,
   "metadata": {},
   "outputs": [
    {
     "data": {
      "text/plain": [
       "<matplotlib.image.AxesImage at 0x7f582c801ed0>"
      ]
     },
     "execution_count": 2,
     "metadata": {},
     "output_type": "execute_result"
    },
    {
     "data": {
      "image/png": "[encoded data removed]",
      "text/plain": [
       "<Figure size 432x288 with 1 Axes>"
      ]
     },
     "metadata": {
      "needs_background": "light"
     },
     "output_type": "display_data"
    }
   ],
   "source": [
    "import numpy as np\n",
    "import tensorflow as tf\n",
    "from matplotlib import pyplot as plt\n",
    "import math\n",
    "import random\n",
    "\n",
    "(train_images, train_labels), (test_images, test_labels) = tf.keras.datasets.mnist.load_data()\n",
    "\n",
    "train_images = train_images\n",
    "test_images = test_images\n",
    "\n",
    "\n",
    "\n",
    "new_train_images = np.zeros((60000,280,280))\n",
    "new_train_labels = np.zeros((60000,14))\n",
    "\n",
    "for i in range(len(new_train_images)):\n",
    "\n",
    "    randx = random.randrange(0,280-28,1)\n",
    "    randy = random.randrange(0,280-28,1)\n",
    "\n",
    "    new_train_images[i,randx:randx+28,randy:randy+28] = train_images[i]\n",
    "    new_train_labels[i,0] = randx\n",
    "    new_train_labels[i,1] = randx + 28\n",
    "    new_train_labels[i,2] = randy\n",
    "    new_train_labels[i,3] = randy + 28\n",
    "    new_train_labels[i,4+train_labels[i]] = 1 \n",
    "\n",
    "\n",
    "plt.imshow(new_train_images[10], interpolation=\"nearest\",cmap=\"gray\")\n",
    "\n",
    "\n",
    "\n"
   ]
  },
  {
   "cell_type": "code",
   "execution_count": 3,
   "metadata": {},
   "outputs": [
    {
     "data": {
      "text/plain": [
       "array([  9.,  37., 224., 252.,   0.,   0.,   0.,   1.,   0.,   0.,   0.,\n",
       "         0.,   0.,   0.])"
      ]
     },
     "execution_count": 3,
     "metadata": {},
     "output_type": "execute_result"
    }
   ],
   "source": [
    "new_train_labels[10]"
   ]
  },
  {
   "cell_type": "code",
   "execution_count": null,
   "metadata": {},
   "outputs": [],
   "source": []
  }
 ],
 "metadata": {
  "kernelspec": {
   "display_name": "Python 3",
   "language": "python",
   "name": "python3"
  },
  "language_info": {
   "codemirror_mode": {
    "name": "ipython",
    "version": 3
   },
   "file_extension": ".py",
   "mimetype": "text/x-python",
   "name": "python",
   "nbconvert_exporter": "python",
   "pygments_lexer": "ipython3",
   "version": "3.10.12"
  }
 },
 "nbformat": 4,
 "nbformat_minor": 2
}
