{
 "cells": [
  {
   "cell_type": "markdown",
   "metadata": {},
   "source": [
    "New Project File:\n",
    "\n",
    "Defines a non-sequential neural net for the McDigit project"
   ]
  },
  {
   "cell_type": "code",
   "execution_count": 11,
   "metadata": {},
   "outputs": [],
   "source": [
    "import numpy as np\n",
    "import tensorflow as tf\n",
    "from matplotlib import pyplot as plt\n",
    "import math\n",
    "import random\n",
    "from PIL import Image\n",
    "\n",
    "(train_images, train_labels), (test_images, test_labels) = tf.keras.datasets.mnist.load_data()\n",
    "\n",
    "train_images = train_images / 255\n",
    "test_images = test_images / 255\n",
    "\n",
    "numimages = 10000\n",
    "\n",
    "new_train_images = np.zeros((numimages,280,280))\n",
    "new_train_labels_space = np.zeros((numimages,4))\n",
    "new_train_labels_class = np.zeros((numimages,10))\n",
    "\n",
    "for i in range(numimages):\n",
    "\n",
    "    randx = random.randrange(0,280-28,1)\n",
    "    randy = random.randrange(0,280-28,1)\n",
    "\n",
    "    new_train_images[i,randx:randx+28,randy:randy+28] = train_images[i]\n",
    "    new_train_labels_space[i,0] = randx\n",
    "    new_train_labels_space[i,1] = randy \n",
    "    new_train_labels_space[i,2] = randx + 28\n",
    "    new_train_labels_space[i,3] = randy + 28\n",
    "    new_train_labels_class[i,train_labels[i]] = 1 \n",
    "\n",
    "#new_train_labels = (new_train_labels_space, new_train_labels_class)\n",
    "\n",
    "#trainimagestensor = tf.convert_to_tensor(new_train_images, dtype=tf.float16)\n",
    "#trainlabelstensor = tf.convert_to_tensor(new_train_labels, dtype=tf.float16)\n",
    "\n",
    "#print(trainimagestensor[0])\n",
    "\n"
   ]
  },
  {
   "cell_type": "markdown",
   "metadata": {},
   "source": [
    "Define the model.  \n",
    "\n",
    "Input layer: 280x280 pixel images\n",
    "Convolutional layers: 4x4 kernel, 8 filters\n",
    "Dense network 1: 4 outputs (spatial)\n",
    "Dense network 2: 10 outputs (classification)"
   ]
  },
  {
   "cell_type": "code",
   "execution_count": 2,
   "metadata": {},
   "outputs": [
    {
     "name": "stdout",
     "output_type": "stream",
     "text": [
      "Model: \"model\"\n",
      "__________________________________________________________________________________________________\n",
      " Layer (type)                Output Shape                 Param #   Connected to                  \n",
      "==================================================================================================\n",
      " Input (InputLayer)          [(None, 280, 280, 1)]        0         []                            \n",
      "                                                                                                  \n",
      " Convolution (Conv2D)        (None, 280, 280, 4)          68        ['Input[0][0]']               \n",
      "                                                                                                  \n",
      " Flatten (Flatten)           (None, 313600)               0         ['Convolution[0][0]']         \n",
      "                                                                                                  \n",
      " Spatial (Dense)             (None, 4)                    1254404   ['Flatten[0][0]']             \n",
      "                                                                                                  \n",
      " Classification (Dense)      (None, 10)                   3136010   ['Flatten[0][0]']             \n",
      "                                                                                                  \n",
      "==================================================================================================\n",
      "Total params: 4390482 (16.75 MB)\n",
      "Trainable params: 4390482 (16.75 MB)\n",
      "Non-trainable params: 0 (0.00 Byte)\n",
      "__________________________________________________________________________________________________\n"
     ]
    },
    {
     "name": "stderr",
     "output_type": "stream",
     "text": [
      "2023-11-08 14:42:08.982674: I tensorflow/compiler/xla/stream_executor/cuda/cuda_gpu_executor.cc:995] successful NUMA node read from SysFS had negative value (-1), but there must be at least one NUMA node, so returning NUMA node zero. See more at https://github.com/torvalds/linux/blob/v6.0/Documentation/ABI/testing/sysfs-bus-pci#L344-L355\n",
      "2023-11-08 14:42:09.011449: I tensorflow/compiler/xla/stream_executor/cuda/cuda_gpu_executor.cc:995] successful NUMA node read from SysFS had negative value (-1), but there must be at least one NUMA node, so returning NUMA node zero. See more at https://github.com/torvalds/linux/blob/v6.0/Documentation/ABI/testing/sysfs-bus-pci#L344-L355\n",
      "2023-11-08 14:42:09.011664: I tensorflow/compiler/xla/stream_executor/cuda/cuda_gpu_executor.cc:995] successful NUMA node read from SysFS had negative value (-1), but there must be at least one NUMA node, so returning NUMA node zero. See more at https://github.com/torvalds/linux/blob/v6.0/Documentation/ABI/testing/sysfs-bus-pci#L344-L355\n",
      "2023-11-08 14:42:09.013071: I tensorflow/compiler/xla/stream_executor/cuda/cuda_gpu_executor.cc:995] successful NUMA node read from SysFS had negative value (-1), but there must be at least one NUMA node, so returning NUMA node zero. See more at https://github.com/torvalds/linux/blob/v6.0/Documentation/ABI/testing/sysfs-bus-pci#L344-L355\n",
      "2023-11-08 14:42:09.013237: I tensorflow/compiler/xla/stream_executor/cuda/cuda_gpu_executor.cc:995] successful NUMA node read from SysFS had negative value (-1), but there must be at least one NUMA node, so returning NUMA node zero. See more at https://github.com/torvalds/linux/blob/v6.0/Documentation/ABI/testing/sysfs-bus-pci#L344-L355\n",
      "2023-11-08 14:42:09.013358: I tensorflow/compiler/xla/stream_executor/cuda/cuda_gpu_executor.cc:995] successful NUMA node read from SysFS had negative value (-1), but there must be at least one NUMA node, so returning NUMA node zero. See more at https://github.com/torvalds/linux/blob/v6.0/Documentation/ABI/testing/sysfs-bus-pci#L344-L355\n",
      "2023-11-08 14:42:09.061980: I tensorflow/compiler/xla/stream_executor/cuda/cuda_gpu_executor.cc:995] successful NUMA node read from SysFS had negative value (-1), but there must be at least one NUMA node, so returning NUMA node zero. See more at https://github.com/torvalds/linux/blob/v6.0/Documentation/ABI/testing/sysfs-bus-pci#L344-L355\n",
      "2023-11-08 14:42:09.062193: I tensorflow/compiler/xla/stream_executor/cuda/cuda_gpu_executor.cc:995] successful NUMA node read from SysFS had negative value (-1), but there must be at least one NUMA node, so returning NUMA node zero. See more at https://github.com/torvalds/linux/blob/v6.0/Documentation/ABI/testing/sysfs-bus-pci#L344-L355\n",
      "2023-11-08 14:42:09.062333: I tensorflow/compiler/xla/stream_executor/cuda/cuda_gpu_executor.cc:995] successful NUMA node read from SysFS had negative value (-1), but there must be at least one NUMA node, so returning NUMA node zero. See more at https://github.com/torvalds/linux/blob/v6.0/Documentation/ABI/testing/sysfs-bus-pci#L344-L355\n",
      "2023-11-08 14:42:09.062472: I tensorflow/core/common_runtime/gpu/gpu_device.cc:1639] Created device /job:localhost/replica:0/task:0/device:GPU:0 with 6112 MB memory:  -> device: 0, name: NVIDIA GeForce RTX 4070 Laptop GPU, pci bus id: 0000:01:00.0, compute capability: 8.9\n"
     ]
    },
    {
     "data": {
      "image/png": "[encoded data removed]",
      "text/plain": [
       "<IPython.core.display.Image object>"
      ]
     },
     "execution_count": 2,
     "metadata": {},
     "output_type": "execute_result"
    }
   ],
   "source": [
    "\n",
    "\n",
    "inputlayer = tf.keras.Input(shape=(280, 280,1), name=\"Input\")\n",
    "convlayer = tf.keras.layers.Conv2D(filters=4, kernel_size=(4,4),padding='same', name=\"Convolution\")(inputlayer)\n",
    "\n",
    "\n",
    "flatlayer = tf.keras.layers.Flatten(name=\"Flatten\")(convlayer)\n",
    "\n",
    "spacelayer = tf.keras.layers.Dense(4, activation='relu', name='Spatial')(flatlayer)\n",
    "classlayer = tf.keras.layers.Dense(10, activation='softmax', name='Classification')(flatlayer)\n",
    "\n",
    "model = tf.keras.Model(inputs=inputlayer, outputs=[spacelayer, classlayer])\n",
    "\n",
    "\n",
    "model.summary()\n",
    "\n",
    "model.compile(\n",
    "  optimizer=tf.keras.optimizers.Adam(0.001),\n",
    "  loss={\"Spatial\": tf.keras.losses.MeanSquaredError(), \"Classification\": tf.keras.losses.CategoricalCrossentropy()},\n",
    "  metrics=['accuracy']\n",
    "  )\n",
    "\n",
    "tf.keras.utils.plot_model(model, \"model.png\")"
   ]
  },
  {
   "cell_type": "code",
   "execution_count": 3,
   "metadata": {},
   "outputs": [
    {
     "name": "stdout",
     "output_type": "stream",
     "text": [
      "Epoch 1/10\n"
     ]
    },
    {
     "name": "stderr",
     "output_type": "stream",
     "text": [
      "2023-11-08 14:42:17.576332: I tensorflow/compiler/xla/stream_executor/cuda/cuda_dnn.cc:432] Loaded cuDNN version 8902\n",
      "2023-11-08 14:42:17.921957: I tensorflow/compiler/xla/stream_executor/cuda/cuda_blas.cc:606] TensorFloat-32 will be used for the matrix multiplication. This will only be logged once.\n",
      "2023-11-08 14:42:17.963468: I tensorflow/compiler/xla/service/service.cc:168] XLA service 0x55fc4593a240 initialized for platform CUDA (this does not guarantee that XLA will be used). Devices:\n",
      "2023-11-08 14:42:17.963497: I tensorflow/compiler/xla/service/service.cc:176]   StreamExecutor device (0): NVIDIA GeForce RTX 4070 Laptop GPU, Compute Capability 8.9\n",
      "2023-11-08 14:42:17.967607: I tensorflow/compiler/mlir/tensorflow/utils/dump_mlir_util.cc:255] disabling MLIR crash reproducer, set env var `MLIR_CRASH_REPRODUCER_DIRECTORY` to enable.\n",
      "2023-11-08 14:42:18.054661: I ./tensorflow/compiler/jit/device_compiler.h:186] Compiled cluster using XLA!  This line is logged at most once for the lifetime of the process.\n"
     ]
    },
    {
     "name": "stdout",
     "output_type": "stream",
     "text": [
      "313/313 [==============================] - 4s 9ms/step - loss: 4053.5896 - Spatial_loss: 4047.8420 - Classification_loss: 5.7471 - Spatial_accuracy: 0.7850 - Classification_accuracy: 0.1130\n",
      "Epoch 2/10\n",
      "313/313 [==============================] - 3s 8ms/step - loss: 603.7947 - Spatial_loss: 596.9031 - Classification_loss: 6.8918 - Spatial_accuracy: 0.9891 - Classification_accuracy: 0.2652\n",
      "Epoch 3/10\n",
      "313/313 [==============================] - 3s 8ms/step - loss: 488.7910 - Spatial_loss: 483.8456 - Classification_loss: 4.9453 - Spatial_accuracy: 0.9871 - Classification_accuracy: 0.3926\n",
      "Epoch 4/10\n",
      "313/313 [==============================] - 3s 9ms/step - loss: 428.8798 - Spatial_loss: 424.8136 - Classification_loss: 4.0660 - Spatial_accuracy: 0.9852 - Classification_accuracy: 0.4767\n",
      "Epoch 5/10\n",
      "313/313 [==============================] - 3s 8ms/step - loss: 393.7275 - Spatial_loss: 390.5027 - Classification_loss: 3.2248 - Spatial_accuracy: 0.9806 - Classification_accuracy: 0.5618\n",
      "Epoch 6/10\n",
      "313/313 [==============================] - 3s 9ms/step - loss: 368.0742 - Spatial_loss: 365.2618 - Classification_loss: 2.8123 - Spatial_accuracy: 0.9837 - Classification_accuracy: 0.6089\n",
      "Epoch 7/10\n",
      "313/313 [==============================] - 3s 9ms/step - loss: 346.8295 - Spatial_loss: 344.4521 - Classification_loss: 2.3774 - Spatial_accuracy: 0.9848 - Classification_accuracy: 0.6691\n",
      "Epoch 8/10\n",
      "313/313 [==============================] - 3s 9ms/step - loss: 326.1303 - Spatial_loss: 324.2515 - Classification_loss: 1.8788 - Spatial_accuracy: 0.9838 - Classification_accuracy: 0.7167\n",
      "Epoch 9/10\n",
      "313/313 [==============================] - 3s 9ms/step - loss: 312.2752 - Spatial_loss: 310.8131 - Classification_loss: 1.4623 - Spatial_accuracy: 0.9812 - Classification_accuracy: 0.7626\n",
      "Epoch 10/10\n",
      "313/313 [==============================] - 3s 8ms/step - loss: 296.0229 - Spatial_loss: 294.7416 - Classification_loss: 1.2813 - Spatial_accuracy: 0.9847 - Classification_accuracy: 0.7951\n"
     ]
    },
    {
     "data": {
      "text/plain": [
       "<keras.callbacks.History at 0x7fdf2c157730>"
      ]
     },
     "execution_count": 3,
     "metadata": {},
     "output_type": "execute_result"
    }
   ],
   "source": [
    "model.fit(new_train_images, [new_train_labels_space, new_train_labels_class], epochs=10)"
   ]
  },
  {
   "cell_type": "code",
   "execution_count": 4,
   "metadata": {},
   "outputs": [],
   "source": [
    "#model.save_weights('myweights1')"
   ]
  },
  {
   "cell_type": "code",
   "execution_count": 17,
   "metadata": {},
   "outputs": [
    {
     "name": "stdout",
     "output_type": "stream",
     "text": [
      "[0. 0. 0. 0. 0. 1. 0. 0. 0. 0.]\n",
      "[212.  54. 240.  82.]\n"
     ]
    },
    {
     "data": {
      "image/png": "[encoded data removed]",
      "text/plain": [
       "<Figure size 432x288 with 1 Axes>"
      ]
     },
     "metadata": {
      "needs_background": "light"
     },
     "output_type": "display_data"
    },
    {
     "name": "stdout",
     "output_type": "stream",
     "text": [
      "1/1 [==============================] - 0s 13ms/step\n"
     ]
    },
    {
     "data": {
      "text/plain": [
       "array([[193.71126,  77.09296, 221.3439 , 103.10795]], dtype=float32)"
      ]
     },
     "execution_count": 17,
     "metadata": {},
     "output_type": "execute_result"
    }
   ],
   "source": [
    "\n",
    "\n",
    "\n",
    "print(new_train_labels_class[0])\n",
    "print(new_train_labels_space[0])\n",
    "\n",
    "\n",
    "\n",
    "plt.imshow(new_train_images[0], interpolation=\"nearest\",cmap=\"gray\")\n",
    "\n",
    "plt.show()\n",
    "\n",
    "\n",
    "\n",
    "\n",
    "\n",
    "test1 = np.expand_dims(new_train_images[0],0)\n",
    "outtest1 = model.predict(test1)\n",
    "\n",
    "outtest1[0]"
   ]
  },
  {
   "cell_type": "code",
   "execution_count": null,
   "metadata": {},
   "outputs": [],
   "source": []
  }
 ],
 "metadata": {
  "kernelspec": {
   "display_name": "Python 3",
   "language": "python",
   "name": "python3"
  },
  "language_info": {
   "codemirror_mode": {
    "name": "ipython",
    "version": 3
   },
   "file_extension": ".py",
   "mimetype": "text/x-python",
   "name": "python",
   "nbconvert_exporter": "python",
   "pygments_lexer": "ipython3",
   "version": "3.10.12"
  }
 },
 "nbformat": 4,
 "nbformat_minor": 2
}
