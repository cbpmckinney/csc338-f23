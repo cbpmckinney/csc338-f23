{
 "cells": [
  {
   "cell_type": "code",
   "execution_count": 14,
   "metadata": {},
   "outputs": [],
   "source": [
    "import numpy as np\n",
    "import tensorflow as tf\n",
    "from matplotlib import pyplot as plt\n",
    "import math\n",
    "import random\n",
    "\n",
    "\n",
    "def SoftMax(values):\n",
    "    answers = [0]*len(values)\n",
    "    denom = 0\n",
    "    for i in range(len(values)):\n",
    "        denom += math.exp(values[i])\n",
    "    for i in range(len(values)):\n",
    "        answers[i] = math.exp(values[i])/denom\n",
    "    return answers\n",
    "\n",
    "\n",
    "def OneHot(label):\n",
    "    ans = [0]*10\n",
    "    ans[label] = 1\n",
    "    return ans\n",
    "\n",
    "\n",
    "class neuralnet:\n",
    "\n",
    "    def __init__(self, numinputs, numoutputs, errorfunc=\"MSE\"):\n",
    "\n",
    "        self.numinputs = numinputs\n",
    "        self.numoutputs = numoutputs\n",
    "        self.errorfunc = errorfunc\n",
    "        \n",
    "        self.biases = np.random.default_rng().random(self.numoutputs)\n",
    "        self.weights = np.random.default_rng().random((self.numoutputs, self.numinputs))\n",
    "\n",
    "    def evaluate(self, inputs):\n",
    "            try:\n",
    "                output = self.weights @ inputs + self.biases\n",
    "                return output\n",
    "            except:\n",
    "                print(\"Dimension mismatch!\")\n",
    "\n",
    "    def computeerror(self, outputs, trueoutputs):\n",
    "         if self.errorfunc == \"MSE\":\n",
    "            pass # You need to put the MSE stuff here\n",
    "         \n",
    "\n",
    "         if self.errorfunc == \"CrossEntropy\":\n",
    "            sum = 0\n",
    "            for i in range(0, len(outputs)):\n",
    "                sum += -trueoutputs[i]*math.log2(outputs[i])\n",
    "            return sum\n",
    "\n",
    "\n",
    "    def computegradient(self, inputs, labels):\n",
    "\n",
    "        wparts = np.zeros((self.numoutputs, self.numinputs))\n",
    "        bparts = np.zeros(self.numoutputs)\n",
    "\n",
    "        if self.errorfunc == \"MSE\":\n",
    "            \n",
    "            # You need to put stuff here\n",
    "\n",
    "\n",
    "            return (wparts, bparts)\n",
    "\n",
    "\n",
    "        if self.errorfunc == \"CrossEntropy\":\n",
    "\n",
    "            # FIX THIS SECTION\n",
    "\n",
    "            ys = self.weights @ inputs + self.biases\n",
    "            softdenom = 0\n",
    "\n",
    "            for i in range(len(ys)):\n",
    "                softdenom += math.exp(ys[i])\n",
    "\n",
    "            zs = SoftMax(ys)\n",
    "            \n",
    "            M3 = np.zeros((self.numoutputs, self.numoutputs, self.numinputs))\n",
    "            for i in range(self.numoutputs):\n",
    "                for j in range(self.numinputs):\n",
    "                    M3[i,i,j] = inputs[j]\n",
    "\n",
    "            M2 = np.zeros((self.numoutputs, self.numoutputs))\n",
    "            for i in range(self.numoutputs):\n",
    "                for j in range(self.numoutputs):\n",
    "                    if (i == j):\n",
    "                        M2[i,j] = ((softdenom)*math.exp(ys[j]) - math.exp(2*ys[j])) / (softdenom**2)\n",
    "                    else:\n",
    "                        M2[i,j] = -(math.exp(ys[i]+ys[j])) / (softdenom ** 2)\n",
    "\n",
    "            M1 = np.zeros((self.numoutputs))\n",
    "            for i in range(self.numoutputs):\n",
    "                M1[i] = -labels[i] / (zs[i] * math.log(2))\n",
    "        \n",
    "\n",
    "            wparts = M1 @ (M2 @ M3)\n",
    "            bparts = M1 @ M2\n",
    "            \n",
    "            print(M1)\n",
    "\n",
    "            return (wparts, bparts)\n",
    "\n",
    "       \n",
    "\n",
    "        \n",
    "    \n",
    "    def updateweights(self, wparts, bparts, eta):\n",
    "\n",
    "        # This doesn't need to be changed, since all it takes in are\n",
    "        # the partial derivatives computed elsewhere\n",
    "\n",
    "        self.weights -= eta*wparts\n",
    "        self.biases -= eta*bparts\n",
    "\n"
   ]
  },
  {
   "cell_type": "code",
   "execution_count": 15,
   "metadata": {},
   "outputs": [
    {
     "name": "stdout",
     "output_type": "stream",
     "text": [
      "[[0.1 0.2]\n",
      " [0.3 0.4]]\n",
      "[0.7 0.8]\n"
     ]
    },
    {
     "data": {
      "text/plain": [
       "array([0.87, 1.19])"
      ]
     },
     "execution_count": 15,
     "metadata": {},
     "output_type": "execute_result"
    }
   ],
   "source": [
    "#Instantiate network and set weights/biases\n",
    "NNAssignment4 = neuralnet(2,2,\"CrossEntropy\")\n",
    "NNAssignment4.weights = np.array([[0.1, 0.2], [0.3, 0.4]])\n",
    "NNAssignment4.biases = np.array([0.7, 0.8])\n",
    "\n",
    "\n",
    "print(NNAssignment4.weights)\n",
    "print(NNAssignment4.biases)\n",
    "\n",
    "NNAssignment4.weights @ np.array([0.5, 0.6]) + NNAssignment4.biases\n"
   ]
  },
  {
   "cell_type": "code",
   "execution_count": 16,
   "metadata": {},
   "outputs": [
    {
     "name": "stdout",
     "output_type": "stream",
     "text": [
      "[-3.42947044  0.        ]\n",
      "[[-0.41789411 -0.50147294]\n",
      " [ 0.41789411  0.50147294]]\n",
      "[-0.83578823  0.83578823]\n"
     ]
    }
   ],
   "source": [
    "(wparts, bparts) = NNAssignment4.computegradient([0.5,0.6],[1,0])\n",
    "\n",
    "print(wparts)\n",
    "print(bparts)"
   ]
  },
  {
   "cell_type": "code",
   "execution_count": null,
   "metadata": {},
   "outputs": [],
   "source": []
  },
  {
   "cell_type": "code",
   "execution_count": null,
   "metadata": {},
   "outputs": [],
   "source": []
  }
 ],
 "metadata": {
  "kernelspec": {
   "display_name": "Python 3",
   "language": "python",
   "name": "python3"
  },
  "language_info": {
   "codemirror_mode": {
    "name": "ipython",
    "version": 3
   },
   "file_extension": ".py",
   "mimetype": "text/x-python",
   "name": "python",
   "nbconvert_exporter": "python",
   "pygments_lexer": "ipython3",
   "version": "3.10.12"
  }
 },
 "nbformat": 4,
 "nbformat_minor": 2
}
