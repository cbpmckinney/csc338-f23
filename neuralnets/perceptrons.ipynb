{
 "cells": [
  {
   "cell_type": "markdown",
   "metadata": {},
   "source": [
    "Perceptron from Scratch\n",
    "Neural Network from Scratch"
   ]
  },
  {
   "cell_type": "code",
   "execution_count": 3,
   "metadata": {},
   "outputs": [],
   "source": [
    "import numpy as np\n"
   ]
  },
  {
   "cell_type": "code",
   "execution_count": 19,
   "metadata": {},
   "outputs": [],
   "source": [
    "class Perceptron:\n",
    "\n",
    "    def __init__(self, inputs, activationfunc, biasbool=True):\n",
    "        self.inputs = inputs \n",
    "        self.activationfunc = activationfunc\n",
    "        self.biasbool = biasbool\n",
    "        self.weights = np.random.default_rng().random(self.inputs)\n",
    "        if self.biasbool:\n",
    "            self.bias = np.random.default_rng().random(1)\n",
    "        else:\n",
    "            self.bias = 0\n",
    "\n",
    "    def evaluate(self, inputarray):\n",
    "        output = self.weights @ inputarray + self.bias\n",
    "        return output \n",
    "\n",
    "        \n",
    "\n"
   ]
  },
  {
   "cell_type": "code",
   "execution_count": 20,
   "metadata": {},
   "outputs": [
    {
     "name": "stdout",
     "output_type": "stream",
     "text": [
      "[0.24594424 0.52335067 0.32974532 0.46536356 0.77720934 0.63723243\n",
      " 0.73083961 0.6908632  0.15502402 0.95625553]\n"
     ]
    }
   ],
   "source": [
    "P1 = Perceptron(10,None,True)\n",
    "print(P1.weights)"
   ]
  },
  {
   "cell_type": "code",
   "execution_count": 21,
   "metadata": {},
   "outputs": [
    {
     "name": "stdout",
     "output_type": "stream",
     "text": [
      "[0.74311293 0.08221506 0.69606713 0.47728656 0.34938548 0.31921215\n",
      " 0.20466985 0.65892288 0.10617722 0.53106811]\n"
     ]
    }
   ],
   "source": [
    "inputarr = np.random.default_rng().random(10)\n",
    "print(inputarr)"
   ]
  },
  {
   "cell_type": "code",
   "execution_count": 22,
   "metadata": {},
   "outputs": [
    {
     "data": {
      "text/plain": [
       "array([2.47690667])"
      ]
     },
     "execution_count": 22,
     "metadata": {},
     "output_type": "execute_result"
    }
   ],
   "source": [
    "P1.evaluate(inputarr)"
   ]
  },
  {
   "cell_type": "code",
   "execution_count": 9,
   "metadata": {},
   "outputs": [],
   "source": [
    "class NeuralNet:\n",
    "\n",
    "    def __init__(self, numinputs, numoutputs, errorfunc='L2', actfunc=None, biasbool=True):\n",
    "        self.numinputs = numinputs\n",
    "        self.numoutputs = numoutputs\n",
    "        self.errorfunc = errorfunc\n",
    "        self.actfunc = actfunc\n",
    "        self.biasbool = biasbool\n",
    "        self.weights = np.random.default_rng().random((self.numoutputs, self.numinputs))\n",
    "        if self.biasbool:\n",
    "            self.bias = np.random.default_rng().random(self.numoutputs)\n",
    "        else:\n",
    "            self.bias = np.zeros(self.numoutputs)\n",
    "\n",
    "    def evaluate(self, inputarray):\n",
    "        output = self.weights @ inputarray + self.bias\n",
    "        return output\n",
    "    \n",
    "    def multievaluate(self, inputlist):\n",
    "        outputlist = []\n",
    "        for inputarray in inputlist:\n",
    "            outputlist.append(self.weights @ inputarray) + self.bias\n",
    "        return outputlist\n",
    "    \n",
    "    def computegradient(self, inputlist):\n",
    "        \n",
    "            \n"
   ]
  },
  {
   "cell_type": "code",
   "execution_count": 10,
   "metadata": {},
   "outputs": [
    {
     "name": "stdout",
     "output_type": "stream",
     "text": [
      "[[0.80593497 0.38710012 0.99560801 0.95925924 0.72368569 0.07544109\n",
      "  0.47494648 0.79940217 0.22526596 0.87133487]\n",
      " [0.15713194 0.69831312 0.31712498 0.23272657 0.19707703 0.28383119\n",
      "  0.74689231 0.04886018 0.40640735 0.52350746]\n",
      " [0.89702758 0.71667218 0.65184739 0.57173908 0.25229501 0.09006555\n",
      "  0.62687562 0.8584279  0.42427015 0.91853754]\n",
      " [0.16589041 0.18779548 0.8685777  0.43392066 0.70982067 0.68721966\n",
      "  0.30602148 0.98342481 0.06827616 0.29216423]\n",
      " [0.80569801 0.80416464 0.04485292 0.00968408 0.41409005 0.70626904\n",
      "  0.56144895 0.76523841 0.36632255 0.28366439]]\n"
     ]
    },
    {
     "data": {
      "text/plain": [
       "array([3.42305145, 2.33797342, 3.33903022, 2.04116814, 2.79335187])"
      ]
     },
     "execution_count": 10,
     "metadata": {},
     "output_type": "execute_result"
    }
   ],
   "source": [
    "NN1 = NeuralNet(10,5)\n",
    "print(NN1.weights)\n",
    "\n",
    "inputarr = np.random.default_rng().random(10)\n",
    "NN1.evaluate(inputarr)"
   ]
  },
  {
   "cell_type": "code",
   "execution_count": null,
   "metadata": {},
   "outputs": [],
   "source": []
  }
 ],
 "metadata": {
  "kernelspec": {
   "display_name": "Python 3",
   "language": "python",
   "name": "python3"
  },
  "language_info": {
   "codemirror_mode": {
    "name": "ipython",
    "version": 3
   },
   "file_extension": ".py",
   "mimetype": "text/x-python",
   "name": "python",
   "nbconvert_exporter": "python",
   "pygments_lexer": "ipython3",
   "version": "3.11.4"
  },
  "orig_nbformat": 4
 },
 "nbformat": 4,
 "nbformat_minor": 2
}
