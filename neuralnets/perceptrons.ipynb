{
 "cells": [
  {
   "cell_type": "markdown",
   "metadata": {},
   "source": [
    "Perceptron from Scratch\n",
    "Neural Network from Scratch"
   ]
  },
  {
   "cell_type": "code",
   "execution_count": 1,
   "metadata": {},
   "outputs": [],
   "source": [
    "import numpy as np\n"
   ]
  },
  {
   "cell_type": "code",
   "execution_count": 19,
   "metadata": {},
   "outputs": [],
   "source": [
    "class Perceptron:\n",
    "\n",
    "    def __init__(self, inputs, activationfunc, biasbool=True):\n",
    "        self.inputs = inputs \n",
    "        self.activationfunc = activationfunc\n",
    "        self.biasbool = biasbool\n",
    "        self.weights = np.random.default_rng().random(self.inputs)\n",
    "        if self.biasbool:\n",
    "            self.bias = np.random.default_rng().random(1)\n",
    "        else:\n",
    "            self.bias = 0\n",
    "\n",
    "    def evaluate(self, inputarray):\n",
    "        output = self.weights @ inputarray + self.bias\n",
    "        return output \n",
    "\n",
    "        \n",
    "\n"
   ]
  },
  {
   "cell_type": "code",
   "execution_count": 20,
   "metadata": {},
   "outputs": [
    {
     "name": "stdout",
     "output_type": "stream",
     "text": [
      "[0.24594424 0.52335067 0.32974532 0.46536356 0.77720934 0.63723243\n",
      " 0.73083961 0.6908632  0.15502402 0.95625553]\n"
     ]
    }
   ],
   "source": [
    "P1 = Perceptron(10,None,True)\n",
    "print(P1.weights)"
   ]
  },
  {
   "cell_type": "code",
   "execution_count": 21,
   "metadata": {},
   "outputs": [
    {
     "name": "stdout",
     "output_type": "stream",
     "text": [
      "[0.74311293 0.08221506 0.69606713 0.47728656 0.34938548 0.31921215\n",
      " 0.20466985 0.65892288 0.10617722 0.53106811]\n"
     ]
    }
   ],
   "source": [
    "inputarr = np.random.default_rng().random(10)\n",
    "print(inputarr)"
   ]
  },
  {
   "cell_type": "code",
   "execution_count": 22,
   "metadata": {},
   "outputs": [
    {
     "data": {
      "text/plain": [
       "array([2.47690667])"
      ]
     },
     "execution_count": 22,
     "metadata": {},
     "output_type": "execute_result"
    }
   ],
   "source": [
    "P1.evaluate(inputarr)"
   ]
  },
  {
   "cell_type": "code",
   "execution_count": null,
   "metadata": {},
   "outputs": [],
   "source": []
  }
 ],
 "metadata": {
  "kernelspec": {
   "display_name": "Python 3",
   "language": "python",
   "name": "python3"
  },
  "language_info": {
   "codemirror_mode": {
    "name": "ipython",
    "version": 3
   },
   "file_extension": ".py",
   "mimetype": "text/x-python",
   "name": "python",
   "nbconvert_exporter": "python",
   "pygments_lexer": "ipython3",
   "version": "3.11.4"
  },
  "orig_nbformat": 4
 },
 "nbformat": 4,
 "nbformat_minor": 2
}
