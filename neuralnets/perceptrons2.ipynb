{
 "cells": [
  {
   "cell_type": "code",
   "execution_count": 1,
   "metadata": {},
   "outputs": [
    {
     "name": "stdout",
     "output_type": "stream",
     "text": [
      "[0.55951542 0.53466694 0.2449708  0.29314555 0.87933378 0.36698527\n",
      " 0.0524976  0.66116965 0.08077368 0.03027134]\n",
      "[1.86590935] [2.21303234]\n"
     ]
    }
   ],
   "source": [
    "import numpy as np\n",
    "\n",
    "\n",
    "class Perceptron:\n",
    "\n",
    "    def __init__(self, numinputs, biasbool=True, actfunc=None):\n",
    "        \n",
    "        self.numinputs = numinputs\n",
    "        self.biasbool = biasbool\n",
    "        self.actfunc = actfunc\n",
    "        \n",
    "        self.weights = np.random.default_rng().random(self.numinputs)\n",
    "\n",
    "        if self.biasbool:\n",
    "            self.bias = np.random.default_rng().random(1)\n",
    "        else:\n",
    "            self.bias = 0\n",
    "\n",
    "    def evaluate(self, inputs):\n",
    "        try:\n",
    "            output = self.weights @ inputs + self.bias\n",
    "            return output\n",
    "        except:\n",
    "            print(\"Dimension mismatch!\")\n",
    "\n",
    "\n",
    "    def error(self, outputlist, truelist):\n",
    "        sum = 0\n",
    "        n = len(outputlist)\n",
    "        m = len(outputlist[0])\n",
    "        for i in range(n):\n",
    "            for j in range(m):\n",
    "                sum += (outputlist[i][j]-truelist[i])**2\n",
    "        sum = sum/n\n",
    "        return sum\n",
    "    \n",
    "    def gradient(self, inputlist, outputlist, truelist):\n",
    "        n = len(inputlist)\n",
    "        m = len(inputlist[0])\n",
    "        partweights = np.zeros(m)\n",
    "        partbias = 0\n",
    "        for i in range(n):\n",
    "            error = self.bias + outputlist[i] - truelist[i]\n",
    "            partbias += error \n",
    "            for j in range(m):\n",
    "                partweights[j] += error * inputlist[i][j]\n",
    "        partweights *= 2/n\n",
    "        partbias *= 2/n\n",
    "\n",
    "        return (partweights, partbias)\n",
    "\n",
    "    def updateweights(self, gradient, eta):\n",
    "        self.weights = self.weights - eta*gradient[0]\n",
    "        self.bias = self.bias - eta*gradient[1]\n",
    "            \n",
    "\n",
    "Spam = Perceptron(10,True,None)\n",
    "\n",
    "print(Spam.weights)\n",
    "\n",
    "inputs1 = np.random.default_rng().random(10)\n",
    "inputs2 = np.random.default_rng().random(10)\n",
    "\n",
    "output1 = Spam.evaluate(inputs1)\n",
    "output2 = Spam.evaluate(inputs2)\n",
    "print(output1, output2)\n",
    "\n"
   ]
  },
  {
   "cell_type": "code",
   "execution_count": 6,
   "metadata": {},
   "outputs": [
    {
     "name": "stdout",
     "output_type": "stream",
     "text": [
      "0.3402098334025149\n",
      "(array([0.22193822, 0.31142165, 0.70549936, 0.41899177, 0.57732249,\n",
      "       0.69252345, 0.88430012, 0.65794478, 0.91244356, 0.5711732 ]), array([1.01405861]))\n"
     ]
    }
   ],
   "source": [
    "print(Spam.error([output1, output2],[1,2]))\n",
    "gradient = Spam.gradient([inputs1, inputs2],[output1,output2],[1,2])\n",
    "print(gradient)\n",
    "\n",
    "Spam.updateweights(gradient, 0.01)"
   ]
  },
  {
   "cell_type": "code",
   "execution_count": 8,
   "metadata": {},
   "outputs": [
    {
     "name": "stdout",
     "output_type": "stream",
     "text": [
      "0.29445963447092\n",
      "[0.55446443 0.52806891 0.2298211  0.28440777 0.8668446  0.35232726\n",
      " 0.03361505 0.64729854 0.061372   0.01826633]\n"
     ]
    }
   ],
   "source": [
    "output1 = Spam.evaluate(inputs1)\n",
    "output2 = Spam.evaluate(inputs2)\n",
    "print(Spam.error([output1, output2],[1,2]))\n",
    "print(Spam.weights)"
   ]
  },
  {
   "cell_type": "code",
   "execution_count": 9,
   "metadata": {},
   "outputs": [
    {
     "name": "stdout",
     "output_type": "stream",
     "text": [
      "0.2578574669334005\n",
      "[0.55278337 0.52528121 0.22368316 0.28053509 0.86190235 0.34611554\n",
      " 0.02582806 0.64134879 0.05326549 0.01306906]\n"
     ]
    }
   ],
   "source": [
    "gradient = Spam.gradient([inputs1, inputs2],[output1,output2],[1,2])\n",
    "Spam.updateweights(gradient, 0.01)\n",
    "output1 = Spam.evaluate(inputs1)\n",
    "output2 = Spam.evaluate(inputs2)\n",
    "print(Spam.error([output1, output2],[1,2]))\n",
    "print(Spam.weights)"
   ]
  },
  {
   "cell_type": "code",
   "execution_count": null,
   "metadata": {},
   "outputs": [],
   "source": []
  }
 ],
 "metadata": {
  "kernelspec": {
   "display_name": "base",
   "language": "python",
   "name": "python3"
  },
  "language_info": {
   "codemirror_mode": {
    "name": "ipython",
    "version": 3
   },
   "file_extension": ".py",
   "mimetype": "text/x-python",
   "name": "python",
   "nbconvert_exporter": "python",
   "pygments_lexer": "ipython3",
   "version": "3.11.4"
  },
  "orig_nbformat": 4
 },
 "nbformat": 4,
 "nbformat_minor": 2
}
